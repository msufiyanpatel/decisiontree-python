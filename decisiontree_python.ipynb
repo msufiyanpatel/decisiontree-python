{
  "nbformat": 4,
  "nbformat_minor": 0,
  "metadata": {
    "colab": {
      "provenance": [],
      "authorship_tag": "ABX9TyM/nPI/0NGesGYfOU2QUPx7",
      "include_colab_link": true
    },
    "kernelspec": {
      "name": "python3",
      "display_name": "Python 3"
    },
    "language_info": {
      "name": "python"
    }
  },
  "cells": [
    {
      "cell_type": "markdown",
      "metadata": {
        "id": "view-in-github",
        "colab_type": "text"
      },
      "source": [
        "<a href=\"https://colab.research.google.com/github/msufiyanpatel/decisiontree-python/blob/main/decisiontree_python.ipynb\" target=\"_parent\"><img src=\"https://colab.research.google.com/assets/colab-badge.svg\" alt=\"Open In Colab\"/></a>"
      ]
    },
    {
      "cell_type": "code",
      "execution_count": null,
      "metadata": {
        "id": "cWmLiSXsWUAx"
      },
      "outputs": [],
      "source": [
        "import pandas as pd\n",
        "import numpy as np\n",
        "import seaborn as sns\n",
        "import keras.preprocessing\n",
        "from sklearn.tree import DecisionTreeClassifier\n",
        "from sklearn.linear_model import LogisticRegression\n",
        "from sklearn.metrics import classification_report, confusion_matrix\n",
        "from sklearn.model_selection import train_test_split"
      ]
    },
    {
      "cell_type": "code",
      "source": [
        "from sklearn.preprocessing import StandardScaler\n",
        "\n",
        "\n",
        "data = pd.read_csv(\"/content/Copy of diabetes_prediction_dataset.csv\")\n",
        "\n",
        "\n",
        "missing_values = data.isnull().sum()\n",
        "print(missing_values)\n"
      ],
      "metadata": {
        "colab": {
          "base_uri": "https://localhost:8080/"
        },
        "id": "kIpWjQNOXY28",
        "outputId": "3e95460c-9cc0-44c7-d839-b07bd8c1a292"
      },
      "execution_count": null,
      "outputs": [
        {
          "output_type": "stream",
          "name": "stdout",
          "text": [
            "gender                 0\n",
            "age                    0\n",
            "hypertension           0\n",
            "heart_disease          0\n",
            "smoking_history        0\n",
            "bmi                    0\n",
            "HbA1c_level            0\n",
            "blood_glucose_level    0\n",
            "diabetes               0\n",
            "dtype: int64\n"
          ]
        }
      ]
    },
    {
      "cell_type": "code",
      "source": [
        "data.describe"
      ],
      "metadata": {
        "colab": {
          "base_uri": "https://localhost:8080/"
        },
        "id": "I4GGtDlKbYLF",
        "outputId": "fe2f844c-d835-48fc-9776-62102c269dc2"
      },
      "execution_count": null,
      "outputs": [
        {
          "output_type": "execute_result",
          "data": {
            "text/plain": [
              "<bound method NDFrame.describe of        gender   age  hypertension  heart_disease  smoking_history    bmi  \\\n",
              "0           0  80.0             0              1                0  25.19   \n",
              "1           0  54.0             0              0                1  27.32   \n",
              "2           1  28.0             0              0                0  27.32   \n",
              "3           0  36.0             0              0                2  23.45   \n",
              "4           1  76.0             1              1                2  20.14   \n",
              "...       ...   ...           ...            ...              ...    ...   \n",
              "99995       0  80.0             0              0                1  27.32   \n",
              "99996       0   2.0             0              0                1  17.37   \n",
              "99997       1  66.0             0              0                4  27.83   \n",
              "99998       0  24.0             0              0                0  35.42   \n",
              "99999       0  57.0             0              0                2  22.43   \n",
              "\n",
              "       HbA1c_level  blood_glucose_level  diabetes  \n",
              "0              6.6                  140         0  \n",
              "1              6.6                   80         0  \n",
              "2              5.7                  158         0  \n",
              "3              5.0                  155         0  \n",
              "4              4.8                  155         0  \n",
              "...            ...                  ...       ...  \n",
              "99995          6.2                   90         0  \n",
              "99996          6.5                  100         0  \n",
              "99997          5.7                  155         0  \n",
              "99998          4.0                  100         0  \n",
              "99999          6.6                   90         0  \n",
              "\n",
              "[100000 rows x 9 columns]>"
            ]
          },
          "metadata": {},
          "execution_count": 3
        }
      ]
    },
    {
      "cell_type": "code",
      "source": [
        "import matplotlib.pyplot as plt\n",
        "\n",
        "\n",
        "\n",
        "\n",
        "\n",
        "sns.countplot(x='age',data=data)  \n",
        "plt.show()"
      ],
      "metadata": {
        "colab": {
          "base_uri": "https://localhost:8080/",
          "height": 449
        },
        "id": "vsmLVsJyXpws",
        "outputId": "a2b0248a-bedb-4c03-ab4f-a69f51291452"
      },
      "execution_count": null,
      "outputs": [
        {
          "output_type": "display_data",
          "data": {
            "text/plain": [
              "<Figure size 640x480 with 1 Axes>"
            ],
            "image/png": "[encoded data removed]"
          },
          "metadata": {}
        }
      ]
    },
    {
      "cell_type": "code",
      "source": [
        "from sklearn.preprocessing import StandardScaler\n",
        "\n",
        "scaler = StandardScaler()\n",
        "\n",
        "\n",
        "scaler.fit(newdata)\n",
        "\n",
        "\n",
        "scaler.transform(newdata)"
      ],
      "metadata": {
        "colab": {
          "base_uri": "https://localhost:8080/"
        },
        "id": "1jRmOIn2YyTC",
        "outputId": "025b3054-91cc-4cc8-8455-efa8e98038bb"
      },
      "execution_count": null,
      "outputs": [
        {
          "output_type": "execute_result",
          "data": {
            "text/plain": [
              "array([[-0.84135818,  1.69270354, -0.28443945, ...,  1.00170572,\n",
              "         0.04770422, -0.30478874],\n",
              "       [-0.84135818,  0.53800643, -0.28443945, ...,  1.00170572,\n",
              "        -1.42620999, -0.30478874],\n",
              "       [ 1.18855444, -0.61669069, -0.28443945, ...,  0.16110802,\n",
              "         0.48987848, -0.30478874],\n",
              "       ...,\n",
              "       [ 1.18855444,  1.07094356, -0.28443945, ...,  0.16110802,\n",
              "         0.41618277, -0.30478874],\n",
              "       [-0.84135818, -0.7943364 , -0.28443945, ..., -1.42668764,\n",
              "        -0.93490525, -0.30478874],\n",
              "       [-0.84135818,  0.67124071, -0.28443945, ...,  1.00170572,\n",
              "        -1.18055762, -0.30478874]])"
            ]
          },
          "metadata": {},
          "execution_count": 6
        }
      ]
    },
    {
      "cell_type": "code",
      "source": [
        "feature = [\"gender\", \"age\", \"hypertension\", \"heart_disease\", \"smoking_history\", \"bmi\", \"HbA1c_level\", \"blood_glucose_level\"]"
      ],
      "metadata": {
        "id": "nh3Dr-38Y71J"
      },
      "execution_count": null,
      "outputs": []
    },
    {
      "cell_type": "code",
      "source": [
        "from sklearn.naive_bayes import GaussianNB\n",
        "X = data[feature]\n",
        "y = data['diabetes']\n",
        "\n",
        "\n",
        "X_train, X_test, y_train, y_test = train_test_split(X, y, test_size=0.2, random_state=1)\n",
        "\n",
        "\n",
        "Gmodel = GaussianNB()"
      ],
      "metadata": {
        "id": "QsKyCppwZngL"
      },
      "execution_count": null,
      "outputs": []
    },
    {
      "cell_type": "code",
      "source": [
        "from sklearn.tree import DecisionTreeClassifier\n",
        "X = data[feature]\n",
        "y = data['diabetes']\n",
        "\n",
        "\n",
        "X_train, X_test, y_train, y_test = train_test_split(X, y, test_size=0.2, random_state=1)\n",
        "\n",
        "\n",
        "TreeModel = DecisionTreeClassifier()"
      ],
      "metadata": {
        "id": "5lTyfsbPaP0r"
      },
      "execution_count": null,
      "outputs": []
    },
    {
      "cell_type": "code",
      "source": [
        "from sklearn.metrics import confusion_matrix\n",
        "TreeModel.fit(X_train, y_train)\n",
        "\n",
        "y_pred = TreeModel.predict(X_test)\n",
        "\n",
        "\n",
        "cm = confusion_matrix(y_test, y_pred)\n",
        "print(cm)\n",
        "\n",
        "\n",
        "accuracy = (cm[0, 0] + cm[1, 1]) / sum(sum(cm))\n",
        "print(\"Accuracy:\", accuracy)\n",
        "\n",
        "\n",
        "precision = cm[0, 0] / (cm[0, 0] + cm[1, 0])\n",
        "print(\"Precision:\", precision)\n",
        "\n",
        "\n",
        "recall = cm[0, 0] / (cm[0, 0] + cm[0, 1])\n",
        "print(\"Recall:\", recall)\n",
        "\n",
        "f1_score = 2*precision*recall / (precision + recall)\n",
        "print(\"F1-score:\", f1_score)"
      ],
      "metadata": {
        "colab": {
          "base_uri": "https://localhost:8080/"
        },
        "id": "m3N67FY-aVJy",
        "outputId": "ce238787-0c90-4f5e-87fc-96508ccd443c"
      },
      "execution_count": null,
      "outputs": [
        {
          "output_type": "stream",
          "name": "stdout",
          "text": [
            "[[17782   517]\n",
            " [  452  1249]]\n",
            "Accuracy: 0.95155\n",
            "Precision: 0.9752111440166722\n",
            "Recall: 0.9717470900049183\n",
            "F1-score: 0.9734760353652863\n"
          ]
        }
      ]
    },
    {
      "cell_type": "markdown",
      "source": [
        "# DECISION TREE\n",
        "\n",
        "[[17782   517]\n",
        " [  452  1249]]\n",
        "# Accuracy: 0.95155\n",
        "# Precision: 0.9752111440166722\n",
        "# Recall: 0.9717470900049183\n",
        "# F1-score: 0.9734760353652863"
      ],
      "metadata": {
        "id": "2F4Pw5lzjvuG"
      }
    },
    {
      "cell_type": "code",
      "source": [
        "plt.figure(figsize=(18,3))\n",
        "\n",
        "plt.subplot(1,5,5)\n",
        "\n",
        "plt.title(\"Decision Tree Confusion Matrix\")\n",
        "\n",
        "sns.heatmap(cm, annot=True, cmap='Reds', fmt='d', cbar=False, annot_kws={\"size\": 12})"
      ],
      "metadata": {
        "colab": {
          "base_uri": "https://localhost:8080/",
          "height": 331
        },
        "id": "iOErvpLDkP2Y",
        "outputId": "47044522-3b89-449f-c568-e6f93c27a19a"
      },
      "execution_count": null,
      "outputs": [
        {
          "output_type": "execute_result",
          "data": {
            "text/plain": [
              "<Axes: title={'center': 'Decision Tree Confusion Matrix'}>"
            ]
          },
          "metadata": {},
          "execution_count": 22
        },
        {
          "output_type": "display_data",
          "data": {
            "text/plain": [
              "<Figure size 1800x300 with 1 Axes>"
            ],
            "image/png": "[encoded data removed]"
          },
          "metadata": {}
        }
      ]
    },
    {
      "cell_type": "code",
      "source": [
        "TreeModel.fit(X_train, y_train)\n",
        "\n",
        "\n",
        "y_pred = TreeModel.predict(X_test)\n",
        "\n",
        "\n",
        "score = TreeModel.score(X_test, y_test)\n",
        "print(\"Accuracy:\", score)\n",
        "print(\"\\n\")"
      ],
      "metadata": {
        "colab": {
          "base_uri": "https://localhost:8080/"
        },
        "id": "_7If6rg8awPJ",
        "outputId": "2cc157fa-9c83-495c-d5d4-574d62f03622"
      },
      "execution_count": null,
      "outputs": [
        {
          "output_type": "stream",
          "name": "stdout",
          "text": [
            "Accuracy: 0.95095\n",
            "\n",
            "\n"
          ]
        }
      ]
    },
    {
      "cell_type": "markdown",
      "source": [
        "# DECISION TREE ACCURACY WITHOUT CONFUSION MATRIX\n",
        "\n",
        "# Accuracy: 0.95095"
      ],
      "metadata": {
        "id": "TsI8yABFj6xi"
      }
    },
    {
      "cell_type": "code",
      "source": [
        "from sklearn.metrics import confusion_matrix\n",
        "Gmodel.fit(X_train, y_train)\n",
        "\n",
        "y_pred2 = Gmodel.predict(X_test)\n",
        "\n",
        "\n",
        "cm2 = confusion_matrix(y_test, y_pred2)\n",
        "print(cm2)\n",
        "\n",
        "\n",
        "accuracy = (cm2[0, 0] + cm2[1, 1]) / sum(sum(cm2))\n",
        "print(\"Accuracy:\", accuracy)\n",
        "\n",
        "\n",
        "precision = cm2[0, 0] / (cm2[0, 0] + cm[1, 0])\n",
        "print(\"Precision:\", precision)\n",
        "\n",
        "\n",
        "recall = cm2[0, 0] / (cm2[0, 0] + cm2[0, 1])\n",
        "print(\"Recall:\", recall)\n",
        "\n",
        "f1_score = 2*precision*recall / (precision + recall)\n",
        "print(\"F1-score:\", f1_score)"
      ],
      "metadata": {
        "colab": {
          "base_uri": "https://localhost:8080/"
        },
        "id": "6lXS27wgcM_6",
        "outputId": "7b84f226-3a25-4c7e-e1d0-a2b10b0e9948"
      },
      "execution_count": null,
      "outputs": [
        {
          "output_type": "stream",
          "name": "stdout",
          "text": [
            "[[16988  1311]\n",
            " [  583  1118]]\n",
            "Accuracy: 0.9053\n",
            "Precision: 0.9668203289511126\n",
            "Recall: 0.9283567408055085\n",
            "F1-score: 0.9471982157792026\n"
          ]
        }
      ]
    },
    {
      "cell_type": "code",
      "source": [
        "plt.figure(figsize=(18,3))\n",
        "\n",
        "plt.subplot(1,5,5)\n",
        "\n",
        "plt.title(\"Decision Tree Confusion Matrix\")\n",
        "\n",
        "sns.heatmap(cm2, annot=True, cmap='Reds', fmt='d', cbar=False, annot_kws={\"size\": 12})"
      ],
      "metadata": {
        "colab": {
          "base_uri": "https://localhost:8080/",
          "height": 331
        },
        "id": "LB4KMcftlmxG",
        "outputId": "8b567b6b-876c-41d5-90b5-c67bd0c541dd"
      },
      "execution_count": null,
      "outputs": [
        {
          "output_type": "execute_result",
          "data": {
            "text/plain": [
              "<Axes: title={'center': 'Decision Tree Confusion Matrix'}>"
            ]
          },
          "metadata": {},
          "execution_count": 26
        },
        {
          "output_type": "display_data",
          "data": {
            "text/plain": [
              "<Figure size 1800x300 with 1 Axes>"
            ],
            "image/png": "[encoded data removed]"
          },
          "metadata": {}
        }
      ]
    },
    {
      "cell_type": "code",
      "source": [
        "Gmodel.fit(X_train, y_train)\n",
        "\n",
        "\n",
        "y_pred = Gmodel.predict(X_test)\n",
        "\n",
        "\n",
        "score = Gmodel.score(X_test, y_test)\n",
        "print(\"Accuracy:\", score)\n",
        "print(\"\\n\")"
      ],
      "metadata": {
        "colab": {
          "base_uri": "https://localhost:8080/"
        },
        "id": "yZ5n5izUgsBC",
        "outputId": "bda7a36b-9060-497f-d8ae-0c030915447c"
      },
      "execution_count": null,
      "outputs": [
        {
          "output_type": "stream",
          "name": "stdout",
          "text": [
            "Accuracy: 0.9053\n",
            "\n",
            "\n"
          ]
        }
      ]
    },
    {
      "cell_type": "markdown",
      "source": [
        "# GAUSIANNB Accuracy: 0.9053"
      ],
      "metadata": {
        "id": "Cfegg_3qjl2-"
      }
    },
    {
      "cell_type": "markdown",
      "source": [
        "# 0 = Female\n",
        "# 1 = Male "
      ],
      "metadata": {
        "id": "d2STXusXjVOP"
      }
    },
    {
      "cell_type": "code",
      "source": [
        "sns.countplot(x='gender',data=data,)  "
      ],
      "metadata": {
        "colab": {
          "base_uri": "https://localhost:8080/",
          "height": 466
        },
        "id": "yYTVKHsticGH",
        "outputId": "85a57926-d52d-4ff4-ea2e-18e21c9979df"
      },
      "execution_count": null,
      "outputs": [
        {
          "output_type": "execute_result",
          "data": {
            "text/plain": [
              "<Axes: xlabel='gender', ylabel='count'>"
            ]
          },
          "metadata": {},
          "execution_count": 28
        },
        {
          "output_type": "display_data",
          "data": {
            "text/plain": [
              "<Figure size 640x480 with 1 Axes>"
            ],
            "image/png": "[encoded data removed]"
          },
          "metadata": {}
        }
      ]
    },
    {
      "cell_type": "code",
      "source": [
        "plt.title(\"Never=0, No Info=1, current =3, Former = 4, Ever = 5\")\n",
        "sns.countplot(x='smoking_history',data=data)  \n",
        "\n"
      ],
      "metadata": {
        "colab": {
          "base_uri": "https://localhost:8080/",
          "height": 489
        },
        "id": "udUGOHBqi5ef",
        "outputId": "933402c1-1b3b-400f-baba-09618bed14f6"
      },
      "execution_count": null,
      "outputs": [
        {
          "output_type": "execute_result",
          "data": {
            "text/plain": [
              "<Axes: title={'center': 'Never=0, No Info=1, current =3, Former = 4, Ever = 5'}, xlabel='smoking_history', ylabel='count'>"
            ]
          },
          "metadata": {},
          "execution_count": 33
        },
        {
          "output_type": "display_data",
          "data": {
            "text/plain": [
              "<Figure size 640x480 with 1 Axes>"
            ],
            "image/png": "[encoded data removed]"
          },
          "metadata": {}
        }
      ]
    },
    {
      "cell_type": "markdown",
      "source": [
        "# DECISION TREE ACCURACY 95%\n",
        "\n",
        "# GAUSIANNB ACCURACY 90%\n",
        "\n",
        "\n",
        "# DECISION TREE WILL WORK BETTER"
      ],
      "metadata": {
        "id": "lNTnGWvtnIAO"
      }
    },
    {
      "cell_type": "markdown",
      "source": [
        "# The Labels that affact the result mostly are\n",
        "\n",
        "# **# \"smoking_history\", \"bmi\", \"HbA1c_level\", \"blood_glucose_level\"**"
      ],
      "metadata": {
        "id": "yXNcYaNJoD_N"
      }
    }
  ]
}